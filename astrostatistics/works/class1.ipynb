{
 "cells": [
  {
   "cell_type": "code",
   "execution_count": 3,
   "metadata": {
    "collapsed": false
   },
   "outputs": [
    {
     "data": {
      "text/html": [
       "<ol class=list-inline>\n",
       "\t<li>23</li>\n",
       "\t<li>7</li>\n",
       "\t<li>8</li>\n",
       "\t<li>1</li>\n",
       "\t<li>12</li>\n",
       "</ol>\n"
      ],
      "text/latex": [
       "\\begin{enumerate*}\n",
       "\\item 23\n",
       "\\item 7\n",
       "\\item 8\n",
       "\\item 1\n",
       "\\item 12\n",
       "\\end{enumerate*}\n"
      ],
      "text/markdown": [
       "1. 23\n",
       "2. 7\n",
       "3. 8\n",
       "4. 1\n",
       "5. 12\n",
       "\n",
       "\n"
      ],
      "text/plain": [
       "[1] 23  7  8  1 12"
      ]
     },
     "metadata": {},
     "output_type": "display_data"
    },
    {
     "data": {
      "text/html": [
       "<ol class=list-inline>\n",
       "\t<li>3</li>\n",
       "\t<li>4</li>\n",
       "\t<li>1</li>\n",
       "\t<li>2</li>\n",
       "\t<li>6</li>\n",
       "\t<li>7</li>\n",
       "\t<li>5</li>\n",
       "\t<li>10</li>\n",
       "</ol>\n"
      ],
      "text/latex": [
       "\\begin{enumerate*}\n",
       "\\item 3\n",
       "\\item 4\n",
       "\\item 1\n",
       "\\item 2\n",
       "\\item 6\n",
       "\\item 7\n",
       "\\item 5\n",
       "\\item 10\n",
       "\\end{enumerate*}\n"
      ],
      "text/markdown": [
       "1. 3\n",
       "2. 4\n",
       "3. 1\n",
       "4. 2\n",
       "5. 6\n",
       "6. 7\n",
       "7. 5\n",
       "8. 10\n",
       "\n",
       "\n"
      ],
      "text/plain": [
       "[1]  3  4  1  2  6  7  5 10"
      ]
     },
     "metadata": {},
     "output_type": "display_data"
    }
   ],
   "source": [
    "sample(1:40,5)\n",
    "sample(1:10,8)"
   ]
  },
  {
   "cell_type": "code",
   "execution_count": 5,
   "metadata": {
    "collapsed": false
   },
   "outputs": [
    {
     "data": {
      "text/html": [
       "<ol class=list-inline>\n",
       "\t<li>'T'</li>\n",
       "\t<li>'T'</li>\n",
       "\t<li>'H'</li>\n",
       "\t<li>'H'</li>\n",
       "\t<li>'H'</li>\n",
       "\t<li>'T'</li>\n",
       "\t<li>'T'</li>\n",
       "\t<li>'H'</li>\n",
       "\t<li>'T'</li>\n",
       "\t<li>'T'</li>\n",
       "\t<li>'H'</li>\n",
       "\t<li>'H'</li>\n",
       "\t<li>'H'</li>\n",
       "\t<li>'H'</li>\n",
       "\t<li>'H'</li>\n",
       "\t<li>'T'</li>\n",
       "\t<li>'H'</li>\n",
       "\t<li>'H'</li>\n",
       "\t<li>'T'</li>\n",
       "\t<li>'T'</li>\n",
       "\t<li>'H'</li>\n",
       "\t<li>'T'</li>\n",
       "\t<li>'T'</li>\n",
       "\t<li>'T'</li>\n",
       "\t<li>'T'</li>\n",
       "\t<li>'T'</li>\n",
       "\t<li>'H'</li>\n",
       "\t<li>'T'</li>\n",
       "\t<li>'H'</li>\n",
       "\t<li>'H'</li>\n",
       "\t<li>'T'</li>\n",
       "\t<li>'H'</li>\n",
       "\t<li>'T'</li>\n",
       "\t<li>'H'</li>\n",
       "\t<li>'T'</li>\n",
       "\t<li>'H'</li>\n",
       "\t<li>'T'</li>\n",
       "\t<li>'T'</li>\n",
       "\t<li>'T'</li>\n",
       "\t<li>'H'</li>\n",
       "\t<li>'T'</li>\n",
       "\t<li>'H'</li>\n",
       "\t<li>'T'</li>\n",
       "\t<li>'T'</li>\n",
       "\t<li>'T'</li>\n",
       "\t<li>'H'</li>\n",
       "\t<li>'T'</li>\n",
       "\t<li>'T'</li>\n",
       "\t<li>'T'</li>\n",
       "\t<li>'T'</li>\n",
       "\t<li>'T'</li>\n",
       "\t<li>'T'</li>\n",
       "\t<li>'H'</li>\n",
       "\t<li>'H'</li>\n",
       "\t<li>'T'</li>\n",
       "\t<li>'T'</li>\n",
       "\t<li>'T'</li>\n",
       "\t<li>'T'</li>\n",
       "\t<li>'T'</li>\n",
       "\t<li>'T'</li>\n",
       "\t<li>'H'</li>\n",
       "\t<li>'T'</li>\n",
       "\t<li>'H'</li>\n",
       "\t<li>'T'</li>\n",
       "\t<li>'T'</li>\n",
       "\t<li>'H'</li>\n",
       "\t<li>'H'</li>\n",
       "\t<li>'T'</li>\n",
       "\t<li>'H'</li>\n",
       "\t<li>'H'</li>\n",
       "\t<li>'T'</li>\n",
       "\t<li>'H'</li>\n",
       "\t<li>'T'</li>\n",
       "\t<li>'H'</li>\n",
       "\t<li>'T'</li>\n",
       "\t<li>'T'</li>\n",
       "\t<li>'H'</li>\n",
       "\t<li>'T'</li>\n",
       "\t<li>'T'</li>\n",
       "\t<li>'T'</li>\n",
       "\t<li>'H'</li>\n",
       "\t<li>'H'</li>\n",
       "\t<li>'T'</li>\n",
       "\t<li>'H'</li>\n",
       "\t<li>'T'</li>\n",
       "\t<li>'H'</li>\n",
       "\t<li>'T'</li>\n",
       "\t<li>'H'</li>\n",
       "\t<li>'T'</li>\n",
       "\t<li>'H'</li>\n",
       "\t<li>'H'</li>\n",
       "\t<li>'T'</li>\n",
       "\t<li>'T'</li>\n",
       "\t<li>'T'</li>\n",
       "\t<li>'T'</li>\n",
       "\t<li>'H'</li>\n",
       "\t<li>'H'</li>\n",
       "\t<li>'H'</li>\n",
       "\t<li>'H'</li>\n",
       "\t<li>'T'</li>\n",
       "</ol>\n"
      ],
      "text/latex": [
       "\\begin{enumerate*}\n",
       "\\item 'T'\n",
       "\\item 'T'\n",
       "\\item 'H'\n",
       "\\item 'H'\n",
       "\\item 'H'\n",
       "\\item 'T'\n",
       "\\item 'T'\n",
       "\\item 'H'\n",
       "\\item 'T'\n",
       "\\item 'T'\n",
       "\\item 'H'\n",
       "\\item 'H'\n",
       "\\item 'H'\n",
       "\\item 'H'\n",
       "\\item 'H'\n",
       "\\item 'T'\n",
       "\\item 'H'\n",
       "\\item 'H'\n",
       "\\item 'T'\n",
       "\\item 'T'\n",
       "\\item 'H'\n",
       "\\item 'T'\n",
       "\\item 'T'\n",
       "\\item 'T'\n",
       "\\item 'T'\n",
       "\\item 'T'\n",
       "\\item 'H'\n",
       "\\item 'T'\n",
       "\\item 'H'\n",
       "\\item 'H'\n",
       "\\item 'T'\n",
       "\\item 'H'\n",
       "\\item 'T'\n",
       "\\item 'H'\n",
       "\\item 'T'\n",
       "\\item 'H'\n",
       "\\item 'T'\n",
       "\\item 'T'\n",
       "\\item 'T'\n",
       "\\item 'H'\n",
       "\\item 'T'\n",
       "\\item 'H'\n",
       "\\item 'T'\n",
       "\\item 'T'\n",
       "\\item 'T'\n",
       "\\item 'H'\n",
       "\\item 'T'\n",
       "\\item 'T'\n",
       "\\item 'T'\n",
       "\\item 'T'\n",
       "\\item 'T'\n",
       "\\item 'T'\n",
       "\\item 'H'\n",
       "\\item 'H'\n",
       "\\item 'T'\n",
       "\\item 'T'\n",
       "\\item 'T'\n",
       "\\item 'T'\n",
       "\\item 'T'\n",
       "\\item 'T'\n",
       "\\item 'H'\n",
       "\\item 'T'\n",
       "\\item 'H'\n",
       "\\item 'T'\n",
       "\\item 'T'\n",
       "\\item 'H'\n",
       "\\item 'H'\n",
       "\\item 'T'\n",
       "\\item 'H'\n",
       "\\item 'H'\n",
       "\\item 'T'\n",
       "\\item 'H'\n",
       "\\item 'T'\n",
       "\\item 'H'\n",
       "\\item 'T'\n",
       "\\item 'T'\n",
       "\\item 'H'\n",
       "\\item 'T'\n",
       "\\item 'T'\n",
       "\\item 'T'\n",
       "\\item 'H'\n",
       "\\item 'H'\n",
       "\\item 'T'\n",
       "\\item 'H'\n",
       "\\item 'T'\n",
       "\\item 'H'\n",
       "\\item 'T'\n",
       "\\item 'H'\n",
       "\\item 'T'\n",
       "\\item 'H'\n",
       "\\item 'H'\n",
       "\\item 'T'\n",
       "\\item 'T'\n",
       "\\item 'T'\n",
       "\\item 'T'\n",
       "\\item 'H'\n",
       "\\item 'H'\n",
       "\\item 'H'\n",
       "\\item 'H'\n",
       "\\item 'T'\n",
       "\\end{enumerate*}\n"
      ],
      "text/markdown": [
       "1. 'T'\n",
       "2. 'T'\n",
       "3. 'H'\n",
       "4. 'H'\n",
       "5. 'H'\n",
       "6. 'T'\n",
       "7. 'T'\n",
       "8. 'H'\n",
       "9. 'T'\n",
       "10. 'T'\n",
       "11. 'H'\n",
       "12. 'H'\n",
       "13. 'H'\n",
       "14. 'H'\n",
       "15. 'H'\n",
       "16. 'T'\n",
       "17. 'H'\n",
       "18. 'H'\n",
       "19. 'T'\n",
       "20. 'T'\n",
       "21. 'H'\n",
       "22. 'T'\n",
       "23. 'T'\n",
       "24. 'T'\n",
       "25. 'T'\n",
       "26. 'T'\n",
       "27. 'H'\n",
       "28. 'T'\n",
       "29. 'H'\n",
       "30. 'H'\n",
       "31. 'T'\n",
       "32. 'H'\n",
       "33. 'T'\n",
       "34. 'H'\n",
       "35. 'T'\n",
       "36. 'H'\n",
       "37. 'T'\n",
       "38. 'T'\n",
       "39. 'T'\n",
       "40. 'H'\n",
       "41. 'T'\n",
       "42. 'H'\n",
       "43. 'T'\n",
       "44. 'T'\n",
       "45. 'T'\n",
       "46. 'H'\n",
       "47. 'T'\n",
       "48. 'T'\n",
       "49. 'T'\n",
       "50. 'T'\n",
       "51. 'T'\n",
       "52. 'T'\n",
       "53. 'H'\n",
       "54. 'H'\n",
       "55. 'T'\n",
       "56. 'T'\n",
       "57. 'T'\n",
       "58. 'T'\n",
       "59. 'T'\n",
       "60. 'T'\n",
       "61. 'H'\n",
       "62. 'T'\n",
       "63. 'H'\n",
       "64. 'T'\n",
       "65. 'T'\n",
       "66. 'H'\n",
       "67. 'H'\n",
       "68. 'T'\n",
       "69. 'H'\n",
       "70. 'H'\n",
       "71. 'T'\n",
       "72. 'H'\n",
       "73. 'T'\n",
       "74. 'H'\n",
       "75. 'T'\n",
       "76. 'T'\n",
       "77. 'H'\n",
       "78. 'T'\n",
       "79. 'T'\n",
       "80. 'T'\n",
       "81. 'H'\n",
       "82. 'H'\n",
       "83. 'T'\n",
       "84. 'H'\n",
       "85. 'T'\n",
       "86. 'H'\n",
       "87. 'T'\n",
       "88. 'H'\n",
       "89. 'T'\n",
       "90. 'H'\n",
       "91. 'H'\n",
       "92. 'T'\n",
       "93. 'T'\n",
       "94. 'T'\n",
       "95. 'T'\n",
       "96. 'H'\n",
       "97. 'H'\n",
       "98. 'H'\n",
       "99. 'H'\n",
       "100. 'T'\n",
       "\n",
       "\n"
      ],
      "text/plain": [
       "  [1] \"T\" \"T\" \"H\" \"H\" \"H\" \"T\" \"T\" \"H\" \"T\" \"T\" \"H\" \"H\" \"H\" \"H\" \"H\" \"T\" \"H\" \"H\"\n",
       " [19] \"T\" \"T\" \"H\" \"T\" \"T\" \"T\" \"T\" \"T\" \"H\" \"T\" \"H\" \"H\" \"T\" \"H\" \"T\" \"H\" \"T\" \"H\"\n",
       " [37] \"T\" \"T\" \"T\" \"H\" \"T\" \"H\" \"T\" \"T\" \"T\" \"H\" \"T\" \"T\" \"T\" \"T\" \"T\" \"T\" \"H\" \"H\"\n",
       " [55] \"T\" \"T\" \"T\" \"T\" \"T\" \"T\" \"H\" \"T\" \"H\" \"T\" \"T\" \"H\" \"H\" \"T\" \"H\" \"H\" \"T\" \"H\"\n",
       " [73] \"T\" \"H\" \"T\" \"T\" \"H\" \"T\" \"T\" \"T\" \"H\" \"H\" \"T\" \"H\" \"T\" \"H\" \"T\" \"H\" \"T\" \"H\"\n",
       " [91] \"H\" \"T\" \"T\" \"T\" \"T\" \"H\" \"H\" \"H\" \"H\" \"T\""
      ]
     },
     "metadata": {},
     "output_type": "display_data"
    }
   ],
   "source": [
    "#Coins throw\n",
    "sample(c(\"H\",\"T\"),100,replace=T)"
   ]
  },
  {
   "cell_type": "code",
   "execution_count": 6,
   "metadata": {
    "collapsed": false
   },
   "outputs": [
    {
     "data": {
      "text/html": [
       "<ol class=list-inline>\n",
       "\t<li>'H'</li>\n",
       "\t<li>'H'</li>\n",
       "\t<li>'T'</li>\n",
       "\t<li>'H'</li>\n",
       "\t<li>'T'</li>\n",
       "\t<li>'T'</li>\n",
       "\t<li>'T'</li>\n",
       "\t<li>'H'</li>\n",
       "\t<li>'T'</li>\n",
       "\t<li>'H'</li>\n",
       "\t<li>'H'</li>\n",
       "\t<li>'H'</li>\n",
       "\t<li>'H'</li>\n",
       "\t<li>'H'</li>\n",
       "\t<li>'H'</li>\n",
       "\t<li>'H'</li>\n",
       "\t<li>'H'</li>\n",
       "\t<li>'H'</li>\n",
       "\t<li>'H'</li>\n",
       "\t<li>'H'</li>\n",
       "</ol>\n"
      ],
      "text/latex": [
       "\\begin{enumerate*}\n",
       "\\item 'H'\n",
       "\\item 'H'\n",
       "\\item 'T'\n",
       "\\item 'H'\n",
       "\\item 'T'\n",
       "\\item 'T'\n",
       "\\item 'T'\n",
       "\\item 'H'\n",
       "\\item 'T'\n",
       "\\item 'H'\n",
       "\\item 'H'\n",
       "\\item 'H'\n",
       "\\item 'H'\n",
       "\\item 'H'\n",
       "\\item 'H'\n",
       "\\item 'H'\n",
       "\\item 'H'\n",
       "\\item 'H'\n",
       "\\item 'H'\n",
       "\\item 'H'\n",
       "\\end{enumerate*}\n"
      ],
      "text/markdown": [
       "1. 'H'\n",
       "2. 'H'\n",
       "3. 'T'\n",
       "4. 'H'\n",
       "5. 'T'\n",
       "6. 'T'\n",
       "7. 'T'\n",
       "8. 'H'\n",
       "9. 'T'\n",
       "10. 'H'\n",
       "11. 'H'\n",
       "12. 'H'\n",
       "13. 'H'\n",
       "14. 'H'\n",
       "15. 'H'\n",
       "16. 'H'\n",
       "17. 'H'\n",
       "18. 'H'\n",
       "19. 'H'\n",
       "20. 'H'\n",
       "\n",
       "\n"
      ],
      "text/plain": [
       " [1] \"H\" \"H\" \"T\" \"H\" \"T\" \"T\" \"T\" \"H\" \"T\" \"H\" \"H\" \"H\" \"H\" \"H\" \"H\" \"H\" \"H\" \"H\" \"H\"\n",
       "[20] \"H\""
      ]
     },
     "metadata": {},
     "output_type": "display_data"
    }
   ],
   "source": [
    "#Assign priority to each side of the coin\n",
    "sample(c(\"H\",\"T\"),20,replace=T,prob=c(0.7,0.3))"
   ]
  },
  {
   "cell_type": "code",
   "execution_count": 9,
   "metadata": {
    "collapsed": false
   },
   "outputs": [
    {
     "data": {
      "image/png": "[encoded data removed]",
      "text/plain": [
       "plot without title"
      ]
     },
     "metadata": {},
     "output_type": "display_data"
    }
   ],
   "source": [
    "x <- 0:50\n",
    "plot(x,dbinom(x,size=50,prob=.33),type=\"h\")"
   ]
  },
  {
   "cell_type": "code",
   "execution_count": 12,
   "metadata": {
    "collapsed": false
   },
   "outputs": [
    {
     "data": {
      "text/html": [
       "<ol class=list-inline>\n",
       "\t<li>0.257952728529526</li>\n",
       "\t<li>-0.00406870497608001</li>\n",
       "\t<li>-0.63847282645294</li>\n",
       "\t<li>-0.708226251428136</li>\n",
       "\t<li>0.00298615248824063</li>\n",
       "\t<li>0.0732659234215</li>\n",
       "\t<li>-0.717065627109061</li>\n",
       "\t<li>-0.802781244740663</li>\n",
       "\t<li>-0.967287676151181</li>\n",
       "\t<li>-0.941991654843554</li>\n",
       "\t<li>-0.925853269463131</li>\n",
       "\t<li>-1.24591311200981</li>\n",
       "\t<li>-0.324016019055231</li>\n",
       "\t<li>0.627598840370188</li>\n",
       "\t<li>-0.796604069518403</li>\n",
       "\t<li>0.589539962483351</li>\n",
       "\t<li>-0.573968641045647</li>\n",
       "\t<li>2.15189334367424</li>\n",
       "\t<li>0.581676929847472</li>\n",
       "\t<li>-0.407488635845163</li>\n",
       "\t<li>-0.519424410855082</li>\n",
       "\t<li>-1.15562680060587</li>\n",
       "\t<li>0.4501839311584</li>\n",
       "\t<li>-0.0363697072250984</li>\n",
       "\t<li>-0.54898136354051</li>\n",
       "\t<li>0.366443483406907</li>\n",
       "\t<li>-0.0334792800236289</li>\n",
       "\t<li>0.14370820698502</li>\n",
       "\t<li>-0.531283099122305</li>\n",
       "\t<li>1.60119517166534</li>\n",
       "\t<li>0.528659540325737</li>\n",
       "\t<li>-0.616569334223639</li>\n",
       "\t<li>0.390126353433157</li>\n",
       "\t<li>-0.240019605578527</li>\n",
       "\t<li>0.456963184250139</li>\n",
       "\t<li>-0.370053275336336</li>\n",
       "\t<li>0.221956396943932</li>\n",
       "\t<li>-1.42275441700792</li>\n",
       "\t<li>0.544684820151721</li>\n",
       "\t<li>1.40161242875914</li>\n",
       "\t<li>-1.00388199905212</li>\n",
       "\t<li>0.577932220174362</li>\n",
       "\t<li>0.265774911610189</li>\n",
       "\t<li>-0.325793008907723</li>\n",
       "\t<li>-0.99062457959132</li>\n",
       "\t<li>0.0455598310832544</li>\n",
       "\t<li>-0.599303512062154</li>\n",
       "\t<li>0.689678250402772</li>\n",
       "\t<li>-0.88004425455209</li>\n",
       "\t<li>0.807019434416424</li>\n",
       "\t<li>0.0622312980051313</li>\n",
       "\t<li>1.33768733180756</li>\n",
       "\t<li>-0.540520807000737</li>\n",
       "\t<li>-1.55442909438762</li>\n",
       "\t<li>0.52289750028627</li>\n",
       "\t<li>1.00834102946681</li>\n",
       "\t<li>-1.62457315108914</li>\n",
       "\t<li>-1.07735302930666</li>\n",
       "\t<li>-0.371767278404028</li>\n",
       "\t<li>0.484182347099397</li>\n",
       "\t<li>0.726843246499418</li>\n",
       "\t<li>-1.71010873434599</li>\n",
       "\t<li>1.139848149449</li>\n",
       "\t<li>1.05473145737119</li>\n",
       "\t<li>-0.691790773672371</li>\n",
       "\t<li>1.84809622866712</li>\n",
       "\t<li>0.549370784069081</li>\n",
       "\t<li>1.63613557420399</li>\n",
       "\t<li>0.228640364773042</li>\n",
       "\t<li>-0.0360996136728227</li>\n",
       "\t<li>-1.27909692435829</li>\n",
       "\t<li>-1.24595237379279</li>\n",
       "\t<li>0.281036157003221</li>\n",
       "\t<li>0.707005441952144</li>\n",
       "\t<li>1.57840850295713</li>\n",
       "\t<li>-1.0046425820532</li>\n",
       "\t<li>-1.38910154214104</li>\n",
       "\t<li>0.0144100518645697</li>\n",
       "\t<li>-1.31568268319012</li>\n",
       "\t<li>0.891920586951177</li>\n",
       "\t<li>-1.26158977183414</li>\n",
       "\t<li>-1.18937415444839</li>\n",
       "\t<li>0.381512932669777</li>\n",
       "\t<li>1.20045812637161</li>\n",
       "\t<li>-0.682448731123742</li>\n",
       "\t<li>-1.34819457499291</li>\n",
       "\t<li>1.84244056019148</li>\n",
       "\t<li>0.522152625089023</li>\n",
       "\t<li>0.438496423984142</li>\n",
       "\t<li>0.0260769200595983</li>\n",
       "\t<li>0.369199982968055</li>\n",
       "\t<li>0.0234533468269771</li>\n",
       "\t<li>-0.540718159163843</li>\n",
       "\t<li>-0.0894829882391985</li>\n",
       "\t<li>-0.424710329665687</li>\n",
       "\t<li>0.178976309649241</li>\n",
       "\t<li>-1.20251109112512</li>\n",
       "\t<li>0.0718155458442613</li>\n",
       "\t<li>0.655783854514757</li>\n",
       "\t<li>1.00920100352705</li>\n",
       "</ol>\n"
      ],
      "text/latex": [
       "\\begin{enumerate*}\n",
       "\\item 0.257952728529526\n",
       "\\item -0.00406870497608001\n",
       "\\item -0.63847282645294\n",
       "\\item -0.708226251428136\n",
       "\\item 0.00298615248824063\n",
       "\\item 0.0732659234215\n",
       "\\item -0.717065627109061\n",
       "\\item -0.802781244740663\n",
       "\\item -0.967287676151181\n",
       "\\item -0.941991654843554\n",
       "\\item -0.925853269463131\n",
       "\\item -1.24591311200981\n",
       "\\item -0.324016019055231\n",
       "\\item 0.627598840370188\n",
       "\\item -0.796604069518403\n",
       "\\item 0.589539962483351\n",
       "\\item -0.573968641045647\n",
       "\\item 2.15189334367424\n",
       "\\item 0.581676929847472\n",
       "\\item -0.407488635845163\n",
       "\\item -0.519424410855082\n",
       "\\item -1.15562680060587\n",
       "\\item 0.4501839311584\n",
       "\\item -0.0363697072250984\n",
       "\\item -0.54898136354051\n",
       "\\item 0.366443483406907\n",
       "\\item -0.0334792800236289\n",
       "\\item 0.14370820698502\n",
       "\\item -0.531283099122305\n",
       "\\item 1.60119517166534\n",
       "\\item 0.528659540325737\n",
       "\\item -0.616569334223639\n",
       "\\item 0.390126353433157\n",
       "\\item -0.240019605578527\n",
       "\\item 0.456963184250139\n",
       "\\item -0.370053275336336\n",
       "\\item 0.221956396943932\n",
       "\\item -1.42275441700792\n",
       "\\item 0.544684820151721\n",
       "\\item 1.40161242875914\n",
       "\\item -1.00388199905212\n",
       "\\item 0.577932220174362\n",
       "\\item 0.265774911610189\n",
       "\\item -0.325793008907723\n",
       "\\item -0.99062457959132\n",
       "\\item 0.0455598310832544\n",
       "\\item -0.599303512062154\n",
       "\\item 0.689678250402772\n",
       "\\item -0.88004425455209\n",
       "\\item 0.807019434416424\n",
       "\\item 0.0622312980051313\n",
       "\\item 1.33768733180756\n",
       "\\item -0.540520807000737\n",
       "\\item -1.55442909438762\n",
       "\\item 0.52289750028627\n",
       "\\item 1.00834102946681\n",
       "\\item -1.62457315108914\n",
       "\\item -1.07735302930666\n",
       "\\item -0.371767278404028\n",
       "\\item 0.484182347099397\n",
       "\\item 0.726843246499418\n",
       "\\item -1.71010873434599\n",
       "\\item 1.139848149449\n",
       "\\item 1.05473145737119\n",
       "\\item -0.691790773672371\n",
       "\\item 1.84809622866712\n",
       "\\item 0.549370784069081\n",
       "\\item 1.63613557420399\n",
       "\\item 0.228640364773042\n",
       "\\item -0.0360996136728227\n",
       "\\item -1.27909692435829\n",
       "\\item -1.24595237379279\n",
       "\\item 0.281036157003221\n",
       "\\item 0.707005441952144\n",
       "\\item 1.57840850295713\n",
       "\\item -1.0046425820532\n",
       "\\item -1.38910154214104\n",
       "\\item 0.0144100518645697\n",
       "\\item -1.31568268319012\n",
       "\\item 0.891920586951177\n",
       "\\item -1.26158977183414\n",
       "\\item -1.18937415444839\n",
       "\\item 0.381512932669777\n",
       "\\item 1.20045812637161\n",
       "\\item -0.682448731123742\n",
       "\\item -1.34819457499291\n",
       "\\item 1.84244056019148\n",
       "\\item 0.522152625089023\n",
       "\\item 0.438496423984142\n",
       "\\item 0.0260769200595983\n",
       "\\item 0.369199982968055\n",
       "\\item 0.0234533468269771\n",
       "\\item -0.540718159163843\n",
       "\\item -0.0894829882391985\n",
       "\\item -0.424710329665687\n",
       "\\item 0.178976309649241\n",
       "\\item -1.20251109112512\n",
       "\\item 0.0718155458442613\n",
       "\\item 0.655783854514757\n",
       "\\item 1.00920100352705\n",
       "\\end{enumerate*}\n"
      ],
      "text/markdown": [
       "1. 0.257952728529526\n",
       "2. -0.00406870497608001\n",
       "3. -0.63847282645294\n",
       "4. -0.708226251428136\n",
       "5. 0.00298615248824063\n",
       "6. 0.0732659234215\n",
       "7. -0.717065627109061\n",
       "8. -0.802781244740663\n",
       "9. -0.967287676151181\n",
       "10. -0.941991654843554\n",
       "11. -0.925853269463131\n",
       "12. -1.24591311200981\n",
       "13. -0.324016019055231\n",
       "14. 0.627598840370188\n",
       "15. -0.796604069518403\n",
       "16. 0.589539962483351\n",
       "17. -0.573968641045647\n",
       "18. 2.15189334367424\n",
       "19. 0.581676929847472\n",
       "20. -0.407488635845163\n",
       "21. -0.519424410855082\n",
       "22. -1.15562680060587\n",
       "23. 0.4501839311584\n",
       "24. -0.0363697072250984\n",
       "25. -0.54898136354051\n",
       "26. 0.366443483406907\n",
       "27. -0.0334792800236289\n",
       "28. 0.14370820698502\n",
       "29. -0.531283099122305\n",
       "30. 1.60119517166534\n",
       "31. 0.528659540325737\n",
       "32. -0.616569334223639\n",
       "33. 0.390126353433157\n",
       "34. -0.240019605578527\n",
       "35. 0.456963184250139\n",
       "36. -0.370053275336336\n",
       "37. 0.221956396943932\n",
       "38. -1.42275441700792\n",
       "39. 0.544684820151721\n",
       "40. 1.40161242875914\n",
       "41. -1.00388199905212\n",
       "42. 0.577932220174362\n",
       "43. 0.265774911610189\n",
       "44. -0.325793008907723\n",
       "45. -0.99062457959132\n",
       "46. 0.0455598310832544\n",
       "47. -0.599303512062154\n",
       "48. 0.689678250402772\n",
       "49. -0.88004425455209\n",
       "50. 0.807019434416424\n",
       "51. 0.0622312980051313\n",
       "52. 1.33768733180756\n",
       "53. -0.540520807000737\n",
       "54. -1.55442909438762\n",
       "55. 0.52289750028627\n",
       "56. 1.00834102946681\n",
       "57. -1.62457315108914\n",
       "58. -1.07735302930666\n",
       "59. -0.371767278404028\n",
       "60. 0.484182347099397\n",
       "61. 0.726843246499418\n",
       "62. -1.71010873434599\n",
       "63. 1.139848149449\n",
       "64. 1.05473145737119\n",
       "65. -0.691790773672371\n",
       "66. 1.84809622866712\n",
       "67. 0.549370784069081\n",
       "68. 1.63613557420399\n",
       "69. 0.228640364773042\n",
       "70. -0.0360996136728227\n",
       "71. -1.27909692435829\n",
       "72. -1.24595237379279\n",
       "73. 0.281036157003221\n",
       "74. 0.707005441952144\n",
       "75. 1.57840850295713\n",
       "76. -1.0046425820532\n",
       "77. -1.38910154214104\n",
       "78. 0.0144100518645697\n",
       "79. -1.31568268319012\n",
       "80. 0.891920586951177\n",
       "81. -1.26158977183414\n",
       "82. -1.18937415444839\n",
       "83. 0.381512932669777\n",
       "84. 1.20045812637161\n",
       "85. -0.682448731123742\n",
       "86. -1.34819457499291\n",
       "87. 1.84244056019148\n",
       "88. 0.522152625089023\n",
       "89. 0.438496423984142\n",
       "90. 0.0260769200595983\n",
       "91. 0.369199982968055\n",
       "92. 0.0234533468269771\n",
       "93. -0.540718159163843\n",
       "94. -0.0894829882391985\n",
       "95. -0.424710329665687\n",
       "96. 0.178976309649241\n",
       "97. -1.20251109112512\n",
       "98. 0.0718155458442613\n",
       "99. 0.655783854514757\n",
       "100. 1.00920100352705\n",
       "\n",
       "\n"
      ],
      "text/plain": [
       "  [1]  0.257952729 -0.004068705 -0.638472826 -0.708226251  0.002986152\n",
       "  [6]  0.073265923 -0.717065627 -0.802781245 -0.967287676 -0.941991655\n",
       " [11] -0.925853269 -1.245913112 -0.324016019  0.627598840 -0.796604070\n",
       " [16]  0.589539962 -0.573968641  2.151893344  0.581676930 -0.407488636\n",
       " [21] -0.519424411 -1.155626801  0.450183931 -0.036369707 -0.548981364\n",
       " [26]  0.366443483 -0.033479280  0.143708207 -0.531283099  1.601195172\n",
       " [31]  0.528659540 -0.616569334  0.390126353 -0.240019606  0.456963184\n",
       " [36] -0.370053275  0.221956397 -1.422754417  0.544684820  1.401612429\n",
       " [41] -1.003881999  0.577932220  0.265774912 -0.325793009 -0.990624580\n",
       " [46]  0.045559831 -0.599303512  0.689678250 -0.880044255  0.807019434\n",
       " [51]  0.062231298  1.337687332 -0.540520807 -1.554429094  0.522897500\n",
       " [56]  1.008341029 -1.624573151 -1.077353029 -0.371767278  0.484182347\n",
       " [61]  0.726843246 -1.710108734  1.139848149  1.054731457 -0.691790774\n",
       " [66]  1.848096229  0.549370784  1.636135574  0.228640365 -0.036099614\n",
       " [71] -1.279096924 -1.245952374  0.281036157  0.707005442  1.578408503\n",
       " [76] -1.004642582 -1.389101542  0.014410052 -1.315682683  0.891920587\n",
       " [81] -1.261589772 -1.189374154  0.381512933  1.200458126 -0.682448731\n",
       " [86] -1.348194575  1.842440560  0.522152625  0.438496424  0.026076920\n",
       " [91]  0.369199983  0.023453347 -0.540718159 -0.089482988 -0.424710330\n",
       " [96]  0.178976310 -1.202511091  0.071815546  0.655783855  1.009201004"
      ]
     },
     "metadata": {},
     "output_type": "display_data"
    },
    {
     "data": {
      "text/html": [
       "-0.0534032903862791"
      ],
      "text/latex": [
       "-0.0534032903862791"
      ],
      "text/markdown": [
       "-0.0534032903862791"
      ],
      "text/plain": [
       "[1] -0.05340329"
      ]
     },
     "metadata": {},
     "output_type": "display_data"
    },
    {
     "data": {
      "text/html": [
       "0.883194842695586"
      ],
      "text/latex": [
       "0.883194842695586"
      ],
      "text/markdown": [
       "0.883194842695586"
      ],
      "text/plain": [
       "[1] 0.8831948"
      ]
     },
     "metadata": {},
     "output_type": "display_data"
    },
    {
     "data": {
      "text/html": [
       "<dl class=dl-horizontal>\n",
       "\t<dt>0%</dt>\n",
       "\t\t<dd>-1.71010873434599</dd>\n",
       "\t<dt>25%</dt>\n",
       "\t\t<dd>-0.710436095348367</dd>\n",
       "\t<dt>50%</dt>\n",
       "\t\t<dd>0.00869810217640519</dd>\n",
       "\t<dt>75%</dt>\n",
       "\t\t<dd>0.532665860282233</dd>\n",
       "\t<dt>100%</dt>\n",
       "\t\t<dd>2.15189334367424</dd>\n",
       "</dl>\n"
      ],
      "text/latex": [
       "\\begin{description*}\n",
       "\\item[0\\textbackslash{}\\%] -1.71010873434599\n",
       "\\item[25\\textbackslash{}\\%] -0.710436095348367\n",
       "\\item[50\\textbackslash{}\\%] 0.00869810217640519\n",
       "\\item[75\\textbackslash{}\\%] 0.532665860282233\n",
       "\\item[100\\textbackslash{}\\%] 2.15189334367424\n",
       "\\end{description*}\n"
      ],
      "text/markdown": [
       "0%\n",
       ":   -1.7101087343459925%\n",
       ":   -0.71043609534836750%\n",
       ":   0.0086981021764051975%\n",
       ":   0.532665860282233100%\n",
       ":   2.15189334367424\n",
       "\n"
      ],
      "text/plain": [
       "          0%          25%          50%          75%         100% \n",
       "-1.710108734 -0.710436095  0.008698102  0.532665860  2.151893344 "
      ]
     },
     "metadata": {},
     "output_type": "display_data"
    }
   ],
   "source": [
    "n = 100\n",
    "#Generate 100 random values with normal distribution\n",
    "x <- rnorm(n,mean=0,sd=1)\n",
    "x\n",
    "mean(x)\n",
    "sd(x)\n",
    "quantile(x)"
   ]
  },
  {
   "cell_type": "code",
   "execution_count": 21,
   "metadata": {
    "collapsed": false
   },
   "outputs": [
    {
     "data": {
      "text/html": [
       "<ol class=list-inline>\n",
       "\t<li>5</li>\n",
       "\t<li>4</li>\n",
       "\t<li>5</li>\n",
       "\t<li>6</li>\n",
       "\t<li>7</li>\n",
       "\t<li>8</li>\n",
       "\t<li>12</li>\n",
       "</ol>\n"
      ],
      "text/latex": [
       "\\begin{enumerate*}\n",
       "\\item 5\n",
       "\\item 4\n",
       "\\item 5\n",
       "\\item 6\n",
       "\\item 7\n",
       "\\item 8\n",
       "\\item 12\n",
       "\\end{enumerate*}\n"
      ],
      "text/markdown": [
       "1. 5\n",
       "2. 4\n",
       "3. 5\n",
       "4. 6\n",
       "5. 7\n",
       "6. 8\n",
       "7. 12\n",
       "\n",
       "\n"
      ],
      "text/plain": [
       "[1]  5  4  5  6  7  8 12"
      ]
     },
     "metadata": {},
     "output_type": "display_data"
    },
    {
     "data": {
      "text/html": [
       "<ol class=list-inline>\n",
       "\t<li>6</li>\n",
       "\t<li>7</li>\n",
       "\t<li>8</li>\n",
       "\t<li>9</li>\n",
       "\t<li>10</li>\n",
       "\t<li>12</li>\n",
       "\t<li>-3</li>\n",
       "</ol>\n"
      ],
      "text/latex": [
       "\\begin{enumerate*}\n",
       "\\item 6\n",
       "\\item 7\n",
       "\\item 8\n",
       "\\item 9\n",
       "\\item 10\n",
       "\\item 12\n",
       "\\item -3\n",
       "\\end{enumerate*}\n"
      ],
      "text/markdown": [
       "1. 6\n",
       "2. 7\n",
       "3. 8\n",
       "4. 9\n",
       "5. 10\n",
       "6. 12\n",
       "7. -3\n",
       "\n",
       "\n"
      ],
      "text/plain": [
       "[1]  6  7  8  9 10 12 -3"
      ]
     },
     "metadata": {},
     "output_type": "display_data"
    },
    {
     "data": {
      "text/html": [
       "<ol class=list-inline>\n",
       "\t<li>-2</li>\n",
       "\t<li>5</li>\n",
       "\t<li>6</li>\n",
       "\t<li>7</li>\n",
       "\t<li>8</li>\n",
       "\t<li>9</li>\n",
       "\t<li>10</li>\n",
       "\t<li>15</li>\n",
       "</ol>\n"
      ],
      "text/latex": [
       "\\begin{enumerate*}\n",
       "\\item -2\n",
       "\\item 5\n",
       "\\item 6\n",
       "\\item 7\n",
       "\\item 8\n",
       "\\item 9\n",
       "\\item 10\n",
       "\\item 15\n",
       "\\end{enumerate*}\n"
      ],
      "text/markdown": [
       "1. -2\n",
       "2. 5\n",
       "3. 6\n",
       "4. 7\n",
       "5. 8\n",
       "6. 9\n",
       "7. 10\n",
       "8. 15\n",
       "\n",
       "\n"
      ],
      "text/plain": [
       "[1] -2  5  6  7  8  9 10 15"
      ]
     },
     "metadata": {},
     "output_type": "display_data"
    },
    {
     "data": {
      "text/html": [
       "<ol class=list-inline>\n",
       "\t<li>5</li>\n",
       "\t<li>4</li>\n",
       "\t<li>5</li>\n",
       "</ol>\n"
      ],
      "text/latex": [
       "\\begin{enumerate*}\n",
       "\\item 5\n",
       "\\item 4\n",
       "\\item 5\n",
       "\\end{enumerate*}\n"
      ],
      "text/markdown": [
       "1. 5\n",
       "2. 4\n",
       "3. 5\n",
       "\n",
       "\n"
      ],
      "text/plain": [
       "[1] 5 4 5"
      ]
     },
     "metadata": {},
     "output_type": "display_data"
    },
    {
     "data": {
      "text/html": [
       "<ol class=list-inline>\n",
       "\t<li>4</li>\n",
       "\t<li>5</li>\n",
       "\t<li>6</li>\n",
       "</ol>\n"
      ],
      "text/latex": [
       "\\begin{enumerate*}\n",
       "\\item 4\n",
       "\\item 5\n",
       "\\item 6\n",
       "\\end{enumerate*}\n"
      ],
      "text/markdown": [
       "1. 4\n",
       "2. 5\n",
       "3. 6\n",
       "\n",
       "\n"
      ],
      "text/plain": [
       "[1] 4 5 6"
      ]
     },
     "metadata": {},
     "output_type": "display_data"
    },
    {
     "data": {
      "text/html": [
       "<ol class=list-inline>\n",
       "\t<li>1</li>\n",
       "\t<li>1</li>\n",
       "\t<li>1</li>\n",
       "\t<li>0</li>\n",
       "\t<li>0</li>\n",
       "\t<li>0</li>\n",
       "\t<li>0</li>\n",
       "\t<li>0</li>\n",
       "</ol>\n"
      ],
      "text/latex": [
       "\\begin{enumerate*}\n",
       "\\item 1\n",
       "\\item 1\n",
       "\\item 1\n",
       "\\item 0\n",
       "\\item 0\n",
       "\\item 0\n",
       "\\item 0\n",
       "\\item 0\n",
       "\\end{enumerate*}\n"
      ],
      "text/markdown": [
       "1. 1\n",
       "2. 1\n",
       "3. 1\n",
       "4. 0\n",
       "5. 0\n",
       "6. 0\n",
       "7. 0\n",
       "8. 0\n",
       "\n",
       "\n"
      ],
      "text/plain": [
       "[1] 1 1 1 0 0 0 0 0"
      ]
     },
     "metadata": {},
     "output_type": "display_data"
    },
    {
     "data": {
      "text/html": [
       "<ol class=list-inline>\n",
       "\t<li>'T'</li>\n",
       "\t<li>'T'</li>\n",
       "\t<li>'T'</li>\n",
       "\t<li>'7'</li>\n",
       "\t<li>'8'</li>\n",
       "\t<li>'9'</li>\n",
       "\t<li>'10'</li>\n",
       "\t<li>'15'</li>\n",
       "</ol>\n"
      ],
      "text/latex": [
       "\\begin{enumerate*}\n",
       "\\item 'T'\n",
       "\\item 'T'\n",
       "\\item 'T'\n",
       "\\item '7'\n",
       "\\item '8'\n",
       "\\item '9'\n",
       "\\item '10'\n",
       "\\item '15'\n",
       "\\end{enumerate*}\n"
      ],
      "text/markdown": [
       "1. 'T'\n",
       "2. 'T'\n",
       "3. 'T'\n",
       "4. '7'\n",
       "5. '8'\n",
       "6. '9'\n",
       "7. '10'\n",
       "8. '15'\n",
       "\n",
       "\n"
      ],
      "text/plain": [
       "[1] \"T\"  \"T\"  \"T\"  \"7\"  \"8\"  \"9\"  \"10\" \"15\""
      ]
     },
     "metadata": {},
     "output_type": "display_data"
    }
   ],
   "source": [
    "#create a vector\n",
    "x <- c(5, 4:8, 12)\n",
    "z <- c(6:10, 12, -3)\n",
    "s <- c(-2, 5:10, 15)\n",
    "x\n",
    "z\n",
    "s\n",
    "\n",
    "#A subset of x\n",
    "y <- subset(x,x < 6)\n",
    "y\n",
    "\n",
    "#Wich give back the vector index when the condition is TRUE!!\n",
    "which(z > 8)\n",
    "\n",
    "#ifelse condition\n",
    "ifelse(s < 7, 1,0)\n",
    "ifelse(s < 7, \"T\", s)"
   ]
  },
  {
   "cell_type": "code",
   "execution_count": 28,
   "metadata": {
    "collapsed": false
   },
   "outputs": [
    {
     "data": {
      "text/html": [
       "<table>\n",
       "<tbody>\n",
       "\t<tr><td>-0.9406982</td><td>-0.7193708</td><td> 0.1485174</td></tr>\n",
       "\t<tr><td> 0.4198283</td><td>-2.4705790</td><td> 0.5561816</td></tr>\n",
       "\t<tr><td> 0.6620445</td><td> 1.5917063</td><td> 1.1268542</td></tr>\n",
       "\t<tr><td>-1.5759476</td><td>-1.0329439</td><td>-0.7100172</td></tr>\n",
       "</tbody>\n",
       "</table>\n"
      ],
      "text/latex": [
       "\\begin{tabular}{lll}\n",
       "\t -0.9406982 & -0.7193708 &  0.1485174\\\\\n",
       "\t  0.4198283 & -2.4705790 &  0.5561816\\\\\n",
       "\t  0.6620445 &  1.5917063 &  1.1268542\\\\\n",
       "\t -1.5759476 & -1.0329439 & -0.7100172\\\\\n",
       "\\end{tabular}\n"
      ],
      "text/markdown": [
       "1. -0.94069817845919\n",
       "2. 0.419828324743824\n",
       "3. 0.662044453495199\n",
       "4. -1.57594758067019\n",
       "5. -0.719370788207103\n",
       "6. -2.47057904271694\n",
       "7. 1.59170630096261\n",
       "8. -1.03294389393511\n",
       "9. 0.148517392464412\n",
       "10. 0.556181564588689\n",
       "11. 1.12685416886358\n",
       "12. -0.710017174453219\n",
       "\n",
       "\n"
      ],
      "text/plain": [
       "     [,1]       [,2]       [,3]      \n",
       "[1,] -0.9406982 -0.7193708  0.1485174\n",
       "[2,]  0.4198283 -2.4705790  0.5561816\n",
       "[3,]  0.6620445  1.5917063  1.1268542\n",
       "[4,] -1.5759476 -1.0329439 -0.7100172"
      ]
     },
     "metadata": {},
     "output_type": "display_data"
    },
    {
     "data": {
      "text/html": [
       "-0.710017174453219"
      ],
      "text/latex": [
       "-0.710017174453219"
      ],
      "text/markdown": [
       "-0.710017174453219"
      ],
      "text/plain": [
       "[1] -0.7100172"
      ]
     },
     "metadata": {},
     "output_type": "display_data"
    },
    {
     "data": {
      "text/html": [
       "<ol class=list-inline>\n",
       "\t<li>-0.719370788207103</li>\n",
       "\t<li>-2.47057904271694</li>\n",
       "\t<li>1.59170630096261</li>\n",
       "\t<li>-1.03294389393511</li>\n",
       "</ol>\n"
      ],
      "text/latex": [
       "\\begin{enumerate*}\n",
       "\\item -0.719370788207103\n",
       "\\item -2.47057904271694\n",
       "\\item 1.59170630096261\n",
       "\\item -1.03294389393511\n",
       "\\end{enumerate*}\n"
      ],
      "text/markdown": [
       "1. -0.719370788207103\n",
       "2. -2.47057904271694\n",
       "3. 1.59170630096261\n",
       "4. -1.03294389393511\n",
       "\n",
       "\n"
      ],
      "text/plain": [
       "[1] -0.7193708 -2.4705790  1.5917063 -1.0329439"
      ]
     },
     "metadata": {},
     "output_type": "display_data"
    },
    {
     "data": {
      "text/html": [
       "<ol class=list-inline>\n",
       "\t<li>0.419828324743824</li>\n",
       "\t<li>-2.47057904271694</li>\n",
       "\t<li>0.556181564588689</li>\n",
       "</ol>\n"
      ],
      "text/latex": [
       "\\begin{enumerate*}\n",
       "\\item 0.419828324743824\n",
       "\\item -2.47057904271694\n",
       "\\item 0.556181564588689\n",
       "\\end{enumerate*}\n"
      ],
      "text/markdown": [
       "1. 0.419828324743824\n",
       "2. -2.47057904271694\n",
       "3. 0.556181564588689\n",
       "\n",
       "\n"
      ],
      "text/plain": [
       "[1]  0.4198283 -2.4705790  0.5561816"
      ]
     },
     "metadata": {},
     "output_type": "display_data"
    },
    {
     "data": {
      "text/html": [
       "<ol class=list-inline>\n",
       "\t<li>4</li>\n",
       "\t<li>3</li>\n",
       "</ol>\n"
      ],
      "text/latex": [
       "\\begin{enumerate*}\n",
       "\\item 4\n",
       "\\item 3\n",
       "\\end{enumerate*}\n"
      ],
      "text/markdown": [
       "1. 4\n",
       "2. 3\n",
       "\n",
       "\n"
      ],
      "text/plain": [
       "[1] 4 3"
      ]
     },
     "metadata": {},
     "output_type": "display_data"
    }
   ],
   "source": [
    "#Multidimentional arrays\n",
    "x <- matrix(rnorm(12), nrow=4)\n",
    "x\n",
    "x[4,3]\n",
    "x[,2]\n",
    "x[2,]\n",
    "#The dim() function\n",
    "dim(x) #Dimension of the matrix\n"
   ]
  },
  {
   "cell_type": "code",
   "execution_count": 31,
   "metadata": {
    "collapsed": false
   },
   "outputs": [
    {
     "data": {
      "text/html": [
       "<table>\n",
       "<thead><tr><th scope=col>hospital</th><th scope=col>patients</th></tr></thead>\n",
       "<tbody>\n",
       "\t<tr><td>NYC       </td><td>203       </td></tr>\n",
       "\t<tr><td>California</td><td>421       </td></tr>\n",
       "</tbody>\n",
       "</table>\n"
      ],
      "text/latex": [
       "\\begin{tabular}{r|ll}\n",
       " hospital & patients\\\\\n",
       "\\hline\n",
       "\t NYC        & 203       \\\\\n",
       "\t California & 421       \\\\\n",
       "\\end{tabular}\n"
      ],
      "text/plain": [
       "  hospital   patients\n",
       "1 NYC        203     \n",
       "2 California 421     "
      ]
     },
     "metadata": {},
     "output_type": "display_data"
    },
    {
     "name": "stdout",
     "output_type": "stream",
     "text": [
      "'data.frame':\t2 obs. of  2 variables:\n",
      " $ hospital: Factor w/ 2 levels \"California\",\"NYC\": 2 1\n",
      " $ patients: num  203 421\n"
     ]
    }
   ],
   "source": [
    "#Data Frame\n",
    "hospital <- c(\"NYC\", \"California\")\n",
    "patients <- c(203,421)\n",
    "df <- data.frame(hospital, patients)\n",
    "df\n",
    "\n",
    "str(df)"
   ]
  },
  {
   "cell_type": "code",
   "execution_count": 61,
   "metadata": {
    "collapsed": false
   },
   "outputs": [
    {
     "ename": "ERROR",
     "evalue": "Error in parse(text = x, srcfile = src): <text>:17:1: unexpected symbol\n16:     \n17: aggregate\n    ^\n",
     "output_type": "error",
     "traceback": [
      "Error in parse(text = x, srcfile = src): <text>:17:1: unexpected symbol\n16:     \n17: aggregate\n    ^\nTraceback:\n"
     ]
    }
   ],
   "source": [
    "#Intrinsic Datasets\n",
    "\n",
    "#iris\n",
    "#str(iris)\n",
    "#attributes(iris)\n",
    "#dim(iris)\n",
    "#iris[1:5,] #first five rows\n",
    "#iris[1:10,\"Sepal.Length\"]\n",
    "\n",
    "summary(iris)\n",
    "#table(iris$Species)\n",
    "\n",
    "#Exploring multiple variables\n",
    "\n",
    "cov(iris$Sepal.Length, iris$Petal.Length\n",
    "    \n",
    "#aggregate(Sepal.Length ~ Species, summary, data=iris)"
   ]
  },
  {
   "cell_type": "code",
   "execution_count": 44,
   "metadata": {
    "collapsed": false
   },
   "outputs": [
    {
     "name": "stdout",
     "output_type": "stream",
     "text": [
      "'data.frame':\t71 obs. of  10 variables:\n",
      " $ age         : num  57 65 59 58 60 61 56 60 58 62 ...\n",
      " $ DEXfat      : num  41.7 43.3 35.4 22.8 36.4 ...\n",
      " $ waistcirc   : num  100 99.5 96 72 89.5 83.5 81 89 80 79 ...\n",
      " $ hipcirc     : num  112 116.5 108.5 96.5 100.5 ...\n",
      " $ elbowbreadth: num  7.1 6.5 6.2 6.1 7.1 6.5 6.9 6.2 6.4 7 ...\n",
      " $ kneebreadth : num  9.4 8.9 8.9 9.2 10 8.8 8.9 8.5 8.8 8.8 ...\n",
      " $ anthro3a    : num  4.42 4.63 4.12 4.03 4.24 3.55 4.14 4.04 3.91 3.66 ...\n",
      " $ anthro3b    : num  4.95 5.01 4.74 4.48 4.68 4.06 4.52 4.7 4.32 4.21 ...\n",
      " $ anthro3c    : num  4.5 4.48 4.6 3.91 4.15 3.64 4.31 4.47 3.47 3.6 ...\n",
      " $ anthro4     : num  6.13 6.37 5.82 5.66 5.91 5.14 5.69 5.7 5.49 5.25 ...\n"
     ]
    },
    {
     "data": {
      "text/html": [
       "<table>\n",
       "<thead><tr><th></th><th scope=col>age</th><th scope=col>DEXfat</th><th scope=col>waistcirc</th><th scope=col>hipcirc</th><th scope=col>elbowbreadth</th><th scope=col>kneebreadth</th><th scope=col>anthro3a</th><th scope=col>anthro3b</th><th scope=col>anthro3c</th><th scope=col>anthro4</th></tr></thead>\n",
       "<tbody>\n",
       "\t<tr><th scope=row>47</th><td>57   </td><td>41.68</td><td>100.0</td><td>112.0</td><td>7.1  </td><td> 9.4 </td><td>4.42 </td><td>4.95 </td><td>4.50 </td><td>6.13 </td></tr>\n",
       "\t<tr><th scope=row>48</th><td>65   </td><td>43.29</td><td> 99.5</td><td>116.5</td><td>6.5  </td><td> 8.9 </td><td>4.63 </td><td>5.01 </td><td>4.48 </td><td>6.37 </td></tr>\n",
       "\t<tr><th scope=row>49</th><td>59   </td><td>35.41</td><td> 96.0</td><td>108.5</td><td>6.2  </td><td> 8.9 </td><td>4.12 </td><td>4.74 </td><td>4.60 </td><td>5.82 </td></tr>\n",
       "\t<tr><th scope=row>50</th><td>58   </td><td>22.79</td><td> 72.0</td><td> 96.5</td><td>6.1  </td><td> 9.2 </td><td>4.03 </td><td>4.48 </td><td>3.91 </td><td>5.66 </td></tr>\n",
       "\t<tr><th scope=row>51</th><td>60   </td><td>36.42</td><td> 89.5</td><td>100.5</td><td>7.1  </td><td>10.0 </td><td>4.24 </td><td>4.68 </td><td>4.15 </td><td>5.91 </td></tr>\n",
       "\t<tr><th scope=row>52</th><td>61   </td><td>24.13</td><td> 83.5</td><td> 97.0</td><td>6.5  </td><td> 8.8 </td><td>3.55 </td><td>4.06 </td><td>3.64 </td><td>5.14 </td></tr>\n",
       "</tbody>\n",
       "</table>\n"
      ],
      "text/latex": [
       "\\begin{tabular}{r|llllllllll}\n",
       "  & age & DEXfat & waistcirc & hipcirc & elbowbreadth & kneebreadth & anthro3a & anthro3b & anthro3c & anthro4\\\\\n",
       "\\hline\n",
       "\t47 & 57    & 41.68 & 100.0 & 112.0 & 7.1   &  9.4  & 4.42  & 4.95  & 4.50  & 6.13 \\\\\n",
       "\t48 & 65    & 43.29 &  99.5 & 116.5 & 6.5   &  8.9  & 4.63  & 5.01  & 4.48  & 6.37 \\\\\n",
       "\t49 & 59    & 35.41 &  96.0 & 108.5 & 6.2   &  8.9  & 4.12  & 4.74  & 4.60  & 5.82 \\\\\n",
       "\t50 & 58    & 22.79 &  72.0 &  96.5 & 6.1   &  9.2  & 4.03  & 4.48  & 3.91  & 5.66 \\\\\n",
       "\t51 & 60    & 36.42 &  89.5 & 100.5 & 7.1   & 10.0  & 4.24  & 4.68  & 4.15  & 5.91 \\\\\n",
       "\t52 & 61    & 24.13 &  83.5 &  97.0 & 6.5   &  8.8  & 3.55  & 4.06  & 3.64  & 5.14 \\\\\n",
       "\\end{tabular}\n"
      ],
      "text/plain": [
       "   age DEXfat waistcirc hipcirc elbowbreadth kneebreadth anthro3a anthro3b\n",
       "47 57  41.68  100.0     112.0   7.1           9.4        4.42     4.95    \n",
       "48 65  43.29   99.5     116.5   6.5           8.9        4.63     5.01    \n",
       "49 59  35.41   96.0     108.5   6.2           8.9        4.12     4.74    \n",
       "50 58  22.79   72.0      96.5   6.1           9.2        4.03     4.48    \n",
       "51 60  36.42   89.5     100.5   7.1          10.0        4.24     4.68    \n",
       "52 61  24.13   83.5      97.0   6.5           8.8        3.55     4.06    \n",
       "   anthro3c anthro4\n",
       "47 4.50     6.13   \n",
       "48 4.48     6.37   \n",
       "49 4.60     5.82   \n",
       "50 3.91     5.66   \n",
       "51 4.15     5.91   \n",
       "52 3.64     5.14   "
      ]
     },
     "metadata": {},
     "output_type": "display_data"
    },
    {
     "data": {
      "text/html": [
       "<ol class=list-inline>\n",
       "\t<li>71</li>\n",
       "\t<li>10</li>\n",
       "</ol>\n"
      ],
      "text/latex": [
       "\\begin{enumerate*}\n",
       "\\item 71\n",
       "\\item 10\n",
       "\\end{enumerate*}\n"
      ],
      "text/markdown": [
       "1. 71\n",
       "2. 10\n",
       "\n",
       "\n"
      ],
      "text/plain": [
       "[1] 71 10"
      ]
     },
     "metadata": {},
     "output_type": "display_data"
    },
    {
     "data": {
      "text/html": [
       "<ol class=list-inline>\n",
       "\t<li>'age'</li>\n",
       "\t<li>'DEXfat'</li>\n",
       "\t<li>'waistcirc'</li>\n",
       "\t<li>'hipcirc'</li>\n",
       "\t<li>'elbowbreadth'</li>\n",
       "\t<li>'kneebreadth'</li>\n",
       "\t<li>'anthro3a'</li>\n",
       "\t<li>'anthro3b'</li>\n",
       "\t<li>'anthro3c'</li>\n",
       "\t<li>'anthro4'</li>\n",
       "</ol>\n"
      ],
      "text/latex": [
       "\\begin{enumerate*}\n",
       "\\item 'age'\n",
       "\\item 'DEXfat'\n",
       "\\item 'waistcirc'\n",
       "\\item 'hipcirc'\n",
       "\\item 'elbowbreadth'\n",
       "\\item 'kneebreadth'\n",
       "\\item 'anthro3a'\n",
       "\\item 'anthro3b'\n",
       "\\item 'anthro3c'\n",
       "\\item 'anthro4'\n",
       "\\end{enumerate*}\n"
      ],
      "text/markdown": [
       "1. 'age'\n",
       "2. 'DEXfat'\n",
       "3. 'waistcirc'\n",
       "4. 'hipcirc'\n",
       "5. 'elbowbreadth'\n",
       "6. 'kneebreadth'\n",
       "7. 'anthro3a'\n",
       "8. 'anthro3b'\n",
       "9. 'anthro3c'\n",
       "10. 'anthro4'\n",
       "\n",
       "\n"
      ],
      "text/plain": [
       " [1] \"age\"          \"DEXfat\"       \"waistcirc\"    \"hipcirc\"      \"elbowbreadth\"\n",
       " [6] \"kneebreadth\"  \"anthro3a\"     \"anthro3b\"     \"anthro3c\"     \"anthro4\"     "
      ]
     },
     "metadata": {},
     "output_type": "display_data"
    },
    {
     "data": {
      "text/html": [
       "<dl>\n",
       "\t<dt>$names</dt>\n",
       "\t\t<dd><ol class=list-inline>\n",
       "\t<li>'age'</li>\n",
       "\t<li>'DEXfat'</li>\n",
       "\t<li>'waistcirc'</li>\n",
       "\t<li>'hipcirc'</li>\n",
       "\t<li>'elbowbreadth'</li>\n",
       "\t<li>'kneebreadth'</li>\n",
       "\t<li>'anthro3a'</li>\n",
       "\t<li>'anthro3b'</li>\n",
       "\t<li>'anthro3c'</li>\n",
       "\t<li>'anthro4'</li>\n",
       "</ol>\n",
       "</dd>\n",
       "\t<dt>$row.names</dt>\n",
       "\t\t<dd><ol class=list-inline>\n",
       "\t<li>'47'</li>\n",
       "\t<li>'48'</li>\n",
       "\t<li>'49'</li>\n",
       "\t<li>'50'</li>\n",
       "\t<li>'51'</li>\n",
       "\t<li>'52'</li>\n",
       "\t<li>'53'</li>\n",
       "\t<li>'54'</li>\n",
       "\t<li>'55'</li>\n",
       "\t<li>'56'</li>\n",
       "\t<li>'57'</li>\n",
       "\t<li>'58'</li>\n",
       "\t<li>'59'</li>\n",
       "\t<li>'60'</li>\n",
       "\t<li>'61'</li>\n",
       "\t<li>'62'</li>\n",
       "\t<li>'63'</li>\n",
       "\t<li>'64'</li>\n",
       "\t<li>'65'</li>\n",
       "\t<li>'66'</li>\n",
       "\t<li>'67'</li>\n",
       "\t<li>'68'</li>\n",
       "\t<li>'69'</li>\n",
       "\t<li>'70'</li>\n",
       "\t<li>'71'</li>\n",
       "\t<li>'72'</li>\n",
       "\t<li>'73'</li>\n",
       "\t<li>'74'</li>\n",
       "\t<li>'75'</li>\n",
       "\t<li>'76'</li>\n",
       "\t<li>'77'</li>\n",
       "\t<li>'78'</li>\n",
       "\t<li>'79'</li>\n",
       "\t<li>'80'</li>\n",
       "\t<li>'81'</li>\n",
       "\t<li>'82'</li>\n",
       "\t<li>'83'</li>\n",
       "\t<li>'84'</li>\n",
       "\t<li>'85'</li>\n",
       "\t<li>'86'</li>\n",
       "\t<li>'87'</li>\n",
       "\t<li>'88'</li>\n",
       "\t<li>'89'</li>\n",
       "\t<li>'90'</li>\n",
       "\t<li>'91'</li>\n",
       "\t<li>'92'</li>\n",
       "\t<li>'93'</li>\n",
       "\t<li>'94'</li>\n",
       "\t<li>'95'</li>\n",
       "\t<li>'96'</li>\n",
       "\t<li>'97'</li>\n",
       "\t<li>'98'</li>\n",
       "\t<li>'99'</li>\n",
       "\t<li>'100'</li>\n",
       "\t<li>'101'</li>\n",
       "\t<li>'102'</li>\n",
       "\t<li>'103'</li>\n",
       "\t<li>'104'</li>\n",
       "\t<li>'105'</li>\n",
       "\t<li>'106'</li>\n",
       "\t<li>'107'</li>\n",
       "\t<li>'108'</li>\n",
       "\t<li>'109'</li>\n",
       "\t<li>'110'</li>\n",
       "\t<li>'111'</li>\n",
       "\t<li>'112'</li>\n",
       "\t<li>'113'</li>\n",
       "\t<li>'114'</li>\n",
       "\t<li>'115'</li>\n",
       "\t<li>'116'</li>\n",
       "\t<li>'117'</li>\n",
       "</ol>\n",
       "</dd>\n",
       "\t<dt>$class</dt>\n",
       "\t\t<dd>'data.frame'</dd>\n",
       "</dl>\n"
      ],
      "text/latex": [
       "\\begin{description}\n",
       "\\item[\\$names] \\begin{enumerate*}\n",
       "\\item 'age'\n",
       "\\item 'DEXfat'\n",
       "\\item 'waistcirc'\n",
       "\\item 'hipcirc'\n",
       "\\item 'elbowbreadth'\n",
       "\\item 'kneebreadth'\n",
       "\\item 'anthro3a'\n",
       "\\item 'anthro3b'\n",
       "\\item 'anthro3c'\n",
       "\\item 'anthro4'\n",
       "\\end{enumerate*}\n",
       "\n",
       "\\item[\\$row.names] \\begin{enumerate*}\n",
       "\\item '47'\n",
       "\\item '48'\n",
       "\\item '49'\n",
       "\\item '50'\n",
       "\\item '51'\n",
       "\\item '52'\n",
       "\\item '53'\n",
       "\\item '54'\n",
       "\\item '55'\n",
       "\\item '56'\n",
       "\\item '57'\n",
       "\\item '58'\n",
       "\\item '59'\n",
       "\\item '60'\n",
       "\\item '61'\n",
       "\\item '62'\n",
       "\\item '63'\n",
       "\\item '64'\n",
       "\\item '65'\n",
       "\\item '66'\n",
       "\\item '67'\n",
       "\\item '68'\n",
       "\\item '69'\n",
       "\\item '70'\n",
       "\\item '71'\n",
       "\\item '72'\n",
       "\\item '73'\n",
       "\\item '74'\n",
       "\\item '75'\n",
       "\\item '76'\n",
       "\\item '77'\n",
       "\\item '78'\n",
       "\\item '79'\n",
       "\\item '80'\n",
       "\\item '81'\n",
       "\\item '82'\n",
       "\\item '83'\n",
       "\\item '84'\n",
       "\\item '85'\n",
       "\\item '86'\n",
       "\\item '87'\n",
       "\\item '88'\n",
       "\\item '89'\n",
       "\\item '90'\n",
       "\\item '91'\n",
       "\\item '92'\n",
       "\\item '93'\n",
       "\\item '94'\n",
       "\\item '95'\n",
       "\\item '96'\n",
       "\\item '97'\n",
       "\\item '98'\n",
       "\\item '99'\n",
       "\\item '100'\n",
       "\\item '101'\n",
       "\\item '102'\n",
       "\\item '103'\n",
       "\\item '104'\n",
       "\\item '105'\n",
       "\\item '106'\n",
       "\\item '107'\n",
       "\\item '108'\n",
       "\\item '109'\n",
       "\\item '110'\n",
       "\\item '111'\n",
       "\\item '112'\n",
       "\\item '113'\n",
       "\\item '114'\n",
       "\\item '115'\n",
       "\\item '116'\n",
       "\\item '117'\n",
       "\\end{enumerate*}\n",
       "\n",
       "\\item[\\$class] 'data.frame'\n",
       "\\end{description}\n"
      ],
      "text/markdown": [
       "$names\n",
       ":   1. 'age'\n",
       "2. 'DEXfat'\n",
       "3. 'waistcirc'\n",
       "4. 'hipcirc'\n",
       "5. 'elbowbreadth'\n",
       "6. 'kneebreadth'\n",
       "7. 'anthro3a'\n",
       "8. 'anthro3b'\n",
       "9. 'anthro3c'\n",
       "10. 'anthro4'\n",
       "\n",
       "\n",
       "\n",
       "$row.names\n",
       ":   1. '47'\n",
       "2. '48'\n",
       "3. '49'\n",
       "4. '50'\n",
       "5. '51'\n",
       "6. '52'\n",
       "7. '53'\n",
       "8. '54'\n",
       "9. '55'\n",
       "10. '56'\n",
       "11. '57'\n",
       "12. '58'\n",
       "13. '59'\n",
       "14. '60'\n",
       "15. '61'\n",
       "16. '62'\n",
       "17. '63'\n",
       "18. '64'\n",
       "19. '65'\n",
       "20. '66'\n",
       "21. '67'\n",
       "22. '68'\n",
       "23. '69'\n",
       "24. '70'\n",
       "25. '71'\n",
       "26. '72'\n",
       "27. '73'\n",
       "28. '74'\n",
       "29. '75'\n",
       "30. '76'\n",
       "31. '77'\n",
       "32. '78'\n",
       "33. '79'\n",
       "34. '80'\n",
       "35. '81'\n",
       "36. '82'\n",
       "37. '83'\n",
       "38. '84'\n",
       "39. '85'\n",
       "40. '86'\n",
       "41. '87'\n",
       "42. '88'\n",
       "43. '89'\n",
       "44. '90'\n",
       "45. '91'\n",
       "46. '92'\n",
       "47. '93'\n",
       "48. '94'\n",
       "49. '95'\n",
       "50. '96'\n",
       "51. '97'\n",
       "52. '98'\n",
       "53. '99'\n",
       "54. '100'\n",
       "55. '101'\n",
       "56. '102'\n",
       "57. '103'\n",
       "58. '104'\n",
       "59. '105'\n",
       "60. '106'\n",
       "61. '107'\n",
       "62. '108'\n",
       "63. '109'\n",
       "64. '110'\n",
       "65. '111'\n",
       "66. '112'\n",
       "67. '113'\n",
       "68. '114'\n",
       "69. '115'\n",
       "70. '116'\n",
       "71. '117'\n",
       "\n",
       "\n",
       "\n",
       "$class\n",
       ":   'data.frame'\n",
       "\n",
       "\n"
      ],
      "text/plain": [
       "$names\n",
       " [1] \"age\"          \"DEXfat\"       \"waistcirc\"    \"hipcirc\"      \"elbowbreadth\"\n",
       " [6] \"kneebreadth\"  \"anthro3a\"     \"anthro3b\"     \"anthro3c\"     \"anthro4\"     \n",
       "\n",
       "$row.names\n",
       " [1] \"47\"  \"48\"  \"49\"  \"50\"  \"51\"  \"52\"  \"53\"  \"54\"  \"55\"  \"56\"  \"57\"  \"58\" \n",
       "[13] \"59\"  \"60\"  \"61\"  \"62\"  \"63\"  \"64\"  \"65\"  \"66\"  \"67\"  \"68\"  \"69\"  \"70\" \n",
       "[25] \"71\"  \"72\"  \"73\"  \"74\"  \"75\"  \"76\"  \"77\"  \"78\"  \"79\"  \"80\"  \"81\"  \"82\" \n",
       "[37] \"83\"  \"84\"  \"85\"  \"86\"  \"87\"  \"88\"  \"89\"  \"90\"  \"91\"  \"92\"  \"93\"  \"94\" \n",
       "[49] \"95\"  \"96\"  \"97\"  \"98\"  \"99\"  \"100\" \"101\" \"102\" \"103\" \"104\" \"105\" \"106\"\n",
       "[61] \"107\" \"108\" \"109\" \"110\" \"111\" \"112\" \"113\" \"114\" \"115\" \"116\" \"117\"\n",
       "\n",
       "$class\n",
       "[1] \"data.frame\"\n"
      ]
     },
     "metadata": {},
     "output_type": "display_data"
    }
   ],
   "source": [
    "data(\"bodyfat\",package=\"TH.data\")\n",
    "#bodyfat\n",
    "str(bodyfat)\n",
    "head(bodyfat)\n",
    "dim(bodyfat)\n",
    "names(bodyfat)\n",
    "attributes(bodyfat)"
   ]
  },
  {
   "cell_type": "code",
   "execution_count": 64,
   "metadata": {
    "collapsed": false
   },
   "outputs": [
    {
     "data": {
      "image/png": "[encoded data removed]",
      "text/plain": [
       "plot without title"
      ]
     },
     "metadata": {},
     "output_type": "display_data"
    },
    {
     "data": {
      "image/png": "[encoded data removed]",
      "text/plain": [
       "Plot with title \"Histogram of iris$Sepal.Length\""
      ]
     },
     "metadata": {},
     "output_type": "display_data"
    },
    {
     "data": {
      "image/png": "[encoded data removed]",
      "text/plain": [
       "Plot with title \"density.default(x = iris$Sepal.Length)\""
      ]
     },
     "metadata": {},
     "output_type": "display_data"
    },
    {
     "data": {
      "image/png": "[encoded data removed]",
      "text/plain": [
       "plot without title"
      ]
     },
     "metadata": {},
     "output_type": "display_data"
    },
    {
     "data": {
      "image/png": "[encoded data removed]",
      "text/plain": [
       "plot without title"
      ]
     },
     "metadata": {},
     "output_type": "display_data"
    },
    {
     "ename": "ERROR",
     "evalue": "Error in library(scatterplot3d): there is no package called 'scatterplot3d'\n",
     "output_type": "error",
     "traceback": [
      "Error in library(scatterplot3d): there is no package called 'scatterplot3d'\nTraceback:\n",
      "1. library(scatterplot3d)",
      "2. stop(txt, domain = NA)"
     ]
    },
    {
     "data": {
      "image/png": "[encoded data removed]",
      "text/plain": [
       "plot without title"
      ]
     },
     "metadata": {},
     "output_type": "display_data"
    }
   ],
   "source": [
    "#Graphs\n",
    "pie(table(iris$Species))\n",
    "\n",
    "hist(iris$Sepal.Length)\n",
    "\n",
    "plot(density(iris$Sepal.Length))\n",
    "\n",
    "boxplot(Sepal.Length~Species, data=iris)\n",
    "\n",
    "plot(iris$Sepal.Length, iris$Sepal.Width)\n",
    "\n",
    "pairs(iris)\n",
    "\n",
    "#library(scatterplot3d)\n",
    "#scatterplot3d(iris$Petal.Width, iris$Sepal.Length, iris$Sepal.Width)"
   ]
  },
  {
   "cell_type": "code",
   "execution_count": 85,
   "metadata": {
    "collapsed": false
   },
   "outputs": [
    {
     "data": {
      "image/png": "[encoded data removed]",
      "text/plain": [
       "plot without title"
      ]
     },
     "metadata": {},
     "output_type": "display_data"
    }
   ],
   "source": [
    "pairs(iris, main = \"Length and Widh for Sepal and Petal\", pch = 21,  bg = c(\"red\", \"green3\", \"blue\")[unclass(iris$Species)])\n"
   ]
  },
  {
   "cell_type": "code",
   "execution_count": null,
   "metadata": {
    "collapsed": true
   },
   "outputs": [],
   "source": []
  }
 ],
 "metadata": {
  "kernelspec": {
   "display_name": "R",
   "language": "R",
   "name": "ir"
  },
  "language_info": {
   "codemirror_mode": "r",
   "file_extension": ".r",
   "mimetype": "text/x-r-source",
   "name": "R",
   "pygments_lexer": "r",
   "version": "3.3.1"
  }
 },
 "nbformat": 4,
 "nbformat_minor": 1
}
